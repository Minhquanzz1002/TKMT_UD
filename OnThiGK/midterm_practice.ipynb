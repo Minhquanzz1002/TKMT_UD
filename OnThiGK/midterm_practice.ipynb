{
 "cells": [
  {
   "cell_type": "markdown",
   "metadata": {},
   "source": [
    "Bài ôn tập giữa kỳ"
   ]
  },
  {
   "cell_type": "markdown",
   "metadata": {},
   "source": [
    "# NỘI DUNG ÔN TẬP\n",
    "\n",
    "__1. PHÂN PHỐI XÁC XUẤT__\n",
    "\n",
    "- Sử dụng các phân phối xác suất từ thư viện scipy\n",
    "- Tính được hàm mật độ/ hàm độ lớn, và hàm phân phối tích luỹ của phân phối.\n",
    "- Vẽ đồ thị các hàm phân phối xác suất\n",
    "\n",
    "__2. THỐNG KÊ MÔ TẢ__\n",
    "\n",
    "- Tiền xử lý dữ liệu\n",
    "- Tính các đặc trưng của dữ liệu\n",
    "- Trực quan dữ liệu"
   ]
  },
  {
   "cell_type": "markdown",
   "metadata": {},
   "source": [
    "# PHÂN PHỐI XÁC SUẤT"
   ]
  },
  {
   "cell_type": "code",
   "execution_count": 1,
   "metadata": {},
   "outputs": [],
   "source": [
    "import numpy as np\n",
    "import pandas as pd\n",
    "import matplotlib.pyplot as plt\n",
    "from scipy.stats import norm\n",
    "from scipy.stats import binom\n",
    "from scipy.stats import poisson\n",
    "from scipy.stats import t"
   ]
  },
  {
   "cell_type": "markdown",
   "metadata": {},
   "source": [
    "## 1. PP Binomial"
   ]
  },
  {
   "cell_type": "markdown",
   "metadata": {},
   "source": [
    "Cho một biến ngẫu nhiên X có phân phối nhị thức: X ~ B(n , p). Với n=20, p=0.1\n",
    "\n",
    "a. Tính các giá trị: E(X), Var(X)\n",
    "\n",
    "b. Tính P(X = 3)\n",
    "\n",
    "c. Tính P(X <= 5)\n",
    "\n",
    "d. Tính P(X > 10)\n",
    "\n",
    "e. Vẽ đồ thị hàm mật độ và hàm phân phối tích luỹ của biến ngẫu nhiên X.\n",
    "\n",
    "f. Thực hiện lại câu e với gía trị của n = 100"
   ]
  },
  {
   "cell_type": "code",
   "execution_count": 56,
   "metadata": {},
   "outputs": [],
   "source": [
    "n, p = 20, 0.1"
   ]
  },
  {
   "cell_type": "code",
   "execution_count": 58,
   "metadata": {},
   "outputs": [],
   "source": [
    "x = binom(n, p)"
   ]
  },
  {
   "cell_type": "markdown",
   "metadata": {},
   "source": [
    "#### Tính các giá trị: E(X), Var(X)"
   ]
  },
  {
   "cell_type": "code",
   "execution_count": 59,
   "metadata": {},
   "outputs": [
    {
     "name": "stdout",
     "output_type": "stream",
     "text": [
      "Kỳ vọng: 2.0\n",
      "Phương sai: 1.8\n"
     ]
    }
   ],
   "source": [
    "print('Kỳ vọng: {}\\nPhương sai: {}'.format(x.mean(), x.var()))"
   ]
  },
  {
   "cell_type": "code",
   "execution_count": 6,
   "metadata": {},
   "outputs": [
    {
     "name": "stdout",
     "output_type": "stream",
     "text": [
      "P(X = 3) = 0.1901\n"
     ]
    }
   ],
   "source": [
    "print('P(X = 3) = {}'.format(binom.pmf(3, n, p).round(4)))"
   ]
  },
  {
   "cell_type": "code",
   "execution_count": 7,
   "metadata": {},
   "outputs": [
    {
     "name": "stdout",
     "output_type": "stream",
     "text": [
      "P(X <= 5) = 0.9887\n"
     ]
    }
   ],
   "source": [
    "print('P(X <= 5) = {}'.format(binom.cdf(5, n, p).round(4)))"
   ]
  },
  {
   "cell_type": "code",
   "execution_count": 11,
   "metadata": {},
   "outputs": [
    {
     "name": "stdout",
     "output_type": "stream",
     "text": [
      "P(X > 10) = 7.088606331917546e-07\n"
     ]
    }
   ],
   "source": [
    "print('P(X > 10) =',((1 - binom.cdf(10, n, p))))"
   ]
  },
  {
   "cell_type": "markdown",
   "metadata": {},
   "source": [
    "##### Vẽ đồ thị hàm mật độ và hàm phân phối tích luỹ của biến ngẫu nhiên X."
   ]
  },
  {
   "cell_type": "code",
   "execution_count": 12,
   "metadata": {},
   "outputs": [
    {
     "name": "stdout",
     "output_type": "stream",
     "text": [
      "x: range(0, 21)\n",
      "y: [1.21576655e-01 2.70170344e-01 2.85179807e-01 1.90119871e-01\n",
      " 8.97788281e-02 3.19213611e-02 8.86704476e-03 1.97045439e-03\n",
      " 3.55776487e-04 5.27076277e-05 6.44204339e-06 6.50711453e-07\n",
      " 5.42259544e-08 3.70775757e-09 2.05986532e-10 9.15495696e-12\n",
      " 3.17880450e-13 8.31060000e-15 1.53900000e-16 1.80000000e-18\n",
      " 1.00000000e-20]\n"
     ]
    }
   ],
   "source": [
    "x = range(21)\n",
    "y = binom.pmf(x, n, p)\n",
    "print('x:',x)\n",
    "print('y:',y)"
   ]
  },
  {
   "cell_type": "code",
   "execution_count": 17,
   "metadata": {},
   "outputs": [
    {
     "data": {
      "image/png": "[encoded data removed]",
      "text/plain": [
       "<Figure size 432x288 with 1 Axes>"
      ]
     },
     "metadata": {
      "needs_background": "light"
     },
     "output_type": "display_data"
    }
   ],
   "source": [
    "plt.scatter(x, y)\n",
    "for value in x:\n",
    "    plt.plot([value, value], [0, y[value]], color='orange', ls='--')\n",
    "plt.title('HÀM ĐỘ LỚN HÀM NHỊ THỨC')\n",
    "plt.xlabel('Giá trị')\n",
    "plt.ylabel('Xác suất')\n",
    "plt.show()"
   ]
  },
  {
   "cell_type": "code",
   "execution_count": 19,
   "metadata": {},
   "outputs": [
    {
     "name": "stdout",
     "output_type": "stream",
     "text": [
      "Xác suất tích lũy: [0.12157665 0.391747   0.67692681 0.86704668 0.9568255  0.98874687\n",
      " 0.99761391 0.99958436 0.99994014 0.99999285 0.99999929 0.99999994\n",
      " 1.         1.         1.         1.         1.         1.\n",
      " 1.         1.         1.        ]\n",
      "x: range(0, 21)\n"
     ]
    }
   ],
   "source": [
    "x2 = range(21)\n",
    "xs_tichluy = binom.cdf(x, n, p)\n",
    "print('Xác suất tích lũy:',xs_tichluy)\n",
    "print('x:',x2)"
   ]
  },
  {
   "cell_type": "code",
   "execution_count": 40,
   "metadata": {},
   "outputs": [
    {
     "data": {
      "image/png": "[encoded data removed]",
      "text/plain": [
       "<Figure size 432x288 with 1 Axes>"
      ]
     },
     "metadata": {
      "needs_background": "light"
     },
     "output_type": "display_data"
    }
   ],
   "source": [
    "plt.plot(x2,  xs_tichluy, 'o-b')\n",
    "plt.title('CDF')\n",
    "plt.xlabel('Giá trị')\n",
    "plt.ylabel('Xác suất')\n",
    "plt.show()"
   ]
  },
  {
   "cell_type": "code",
   "execution_count": 44,
   "metadata": {},
   "outputs": [
    {
     "data": {
      "image/png": "[encoded data removed]",
      "text/plain": [
       "<Figure size 864x288 with 2 Axes>"
      ]
     },
     "metadata": {
      "needs_background": "light"
     },
     "output_type": "display_data"
    }
   ],
   "source": [
    "# Vẽ cả hai biểu đồ cùng lúc\n",
    "fig, axes = plt.subplots(1, 2, figsize=(12, 4))\n",
    "\n",
    "axes[0].scatter(x, y)\n",
    "for value in x:\n",
    "    axes[0].plot([value, value], [0, y[value]], color='orange', ls='--')\n",
    "axes[0].set(xlabel='Giá trị', ylabel='Xác suất', title='PMF')\n",
    "\n",
    "axes[1].plot(x2,  xs_tichluy, 'o-b')\n",
    "axes[1].set(xlabel='Giá trị', ylabel='Xác suất', title='CDF')\n",
    "plt.show()\n"
   ]
  },
  {
   "cell_type": "markdown",
   "metadata": {},
   "source": [
    "## 2. PP Poisson"
   ]
  },
  {
   "cell_type": "markdown",
   "metadata": {},
   "source": [
    "Cho một biến ngẫu nhiên X có phân phối Poisson: X ~ P(4).\n",
    "\n",
    "a. Tính các giá trị: E(X), Var(X)\n",
    "\n",
    "b. Tính P(X = 3)\n",
    "\n",
    "c. Tính P(X <= 5)\n",
    "\n",
    "d. Tính P(X > 10)\n",
    "\n",
    "e. Vẽ đồ thị hàm mật độ và hàm phân phối tích luỹ của biến ngẫu nhiên X."
   ]
  },
  {
   "cell_type": "code",
   "execution_count": 73,
   "metadata": {},
   "outputs": [],
   "source": [
    "x = poisson(4)"
   ]
  },
  {
   "cell_type": "code",
   "execution_count": 74,
   "metadata": {},
   "outputs": [
    {
     "name": "stdout",
     "output_type": "stream",
     "text": [
      "Kỳ vọng: 4.0\n",
      "Phương sai: 4.0\n"
     ]
    }
   ],
   "source": [
    "x_mean = x.mean()\n",
    "print('Kỳ vọng: {}\\nPhương sai: {}'.format(x_mean, x.var()))"
   ]
  },
  {
   "cell_type": "code",
   "execution_count": 76,
   "metadata": {},
   "outputs": [
    {
     "name": "stdout",
     "output_type": "stream",
     "text": [
      "P(X = 3) = 0.19536681481316454\n"
     ]
    }
   ],
   "source": [
    "print('P(X = 3) =',poisson.pmf(3, x_mean))"
   ]
  },
  {
   "cell_type": "code",
   "execution_count": 75,
   "metadata": {},
   "outputs": [
    {
     "name": "stdout",
     "output_type": "stream",
     "text": [
      "P(X <= 5) = 0.7851303870304052\n"
     ]
    }
   ],
   "source": [
    "print('P(X <= 5) =',poisson.cdf(5, x_mean))"
   ]
  },
  {
   "cell_type": "code",
   "execution_count": 72,
   "metadata": {},
   "outputs": [
    {
     "name": "stdout",
     "output_type": "stream",
     "text": [
      "P(X > 10) = 0.0028397661205137315\n"
     ]
    }
   ],
   "source": [
    "# poisson.cdf(n, mu)\n",
    "print('P(X > 10) =',(1 - poisson.cdf(10, x_mean)))      "
   ]
  },
  {
   "cell_type": "markdown",
   "metadata": {},
   "source": [
    "## 3. PP Chuẩn"
   ]
  },
  {
   "cell_type": "markdown",
   "metadata": {},
   "source": [
    "Cho một biến ngẫu nhiên X có phân phối chuẩn: X ~ N($\\mu , \\sigma$). Với $\\mu = 450, \\sigma=10$\n",
    "\n",
    "a. Tính các giá trị: E(X), Var(X)\n",
    "\n",
    "b. Tính P(X < 300)\n",
    "\n",
    "c. Tính P(300 < X < 450)\n",
    "\n",
    "d. Tính P(X > 800)\n",
    "\n",
    "e. Tìm M để P(X < M) = 0.2\n",
    "\n",
    "f. Tìm N để tỷ lệ các biến ngẫu nhiên X > N là 10%\n",
    "\n",
    "g. Tìm C để P(X-C < X < X+C) = 0.95\n",
    "\n",
    "h. Vẽ đồ thị hàm mật độ và hàm phân phối tích luỹ của biến ngẫu nhiên X."
   ]
  },
  {
   "cell_type": "code",
   "execution_count": 110,
   "metadata": {},
   "outputs": [],
   "source": [
    "x = norm(450, 10)"
   ]
  },
  {
   "cell_type": "code",
   "execution_count": 111,
   "metadata": {},
   "outputs": [
    {
     "name": "stdout",
     "output_type": "stream",
     "text": [
      "Kỳ vọng: 4.0\n",
      "Phương sai: 100.0\n"
     ]
    }
   ],
   "source": [
    "print('Kỳ vọng: {}\\nPhương sai: {}'.format(x_mean, x.var()))"
   ]
  },
  {
   "cell_type": "code",
   "execution_count": 115,
   "metadata": {},
   "outputs": [
    {
     "name": "stdout",
     "output_type": "stream",
     "text": [
      "P(X < 300) = 3.6709661993126986e-51\n"
     ]
    }
   ],
   "source": [
    "print('P(X < 300) =',(norm.cdf(300, loc=450, scale=10)))"
   ]
  },
  {
   "cell_type": "code",
   "execution_count": 105,
   "metadata": {},
   "outputs": [
    {
     "name": "stdout",
     "output_type": "stream",
     "text": [
      "P(300 < X < 450) = 0.5\n"
     ]
    }
   ],
   "source": [
    "print('P(300 < X < 450) =',(norm.cdf(450, loc=450, scale=10) - norm.cdf(300, loc=450, scale=10)))"
   ]
  },
  {
   "cell_type": "code",
   "execution_count": 100,
   "metadata": {},
   "outputs": [
    {
     "name": "stdout",
     "output_type": "stream",
     "text": [
      "P(X > 800) = 0.0\n"
     ]
    }
   ],
   "source": [
    "print('P(X > 800) =',(1 - norm.cdf(800, loc=450, scale=10)))"
   ]
  },
  {
   "cell_type": "code",
   "execution_count": 113,
   "metadata": {},
   "outputs": [
    {
     "name": "stdout",
     "output_type": "stream",
     "text": [
      "P(X > 800) = 1.5\n"
     ]
    }
   ],
   "source": [
    "print('P(X > 800) =',(0.5 + norm.cdf(800, loc=450, scale=10)))"
   ]
  },
  {
   "cell_type": "markdown",
   "metadata": {},
   "source": [
    "##### Tìm M để P(X < M) = 0.2"
   ]
  },
  {
   "cell_type": "code",
   "execution_count": 120,
   "metadata": {},
   "outputs": [
    {
     "name": "stdout",
     "output_type": "stream",
     "text": [
      "P(X < 440) = 0.15865525393145707\n"
     ]
    }
   ],
   "source": [
    "for i in range(450):\n",
    "    if norm.cdf(i, loc=450, scale=10).round(1) == 0.2:\n",
    "        print('P(X < {}) = {}'.format(i,norm.cdf(i, loc=450, scale=10)))\n",
    "        break"
   ]
  },
  {
   "cell_type": "code",
   "execution_count": null,
   "metadata": {},
   "outputs": [],
   "source": []
  },
  {
   "cell_type": "markdown",
   "metadata": {},
   "source": [
    "# THỐNG KÊ MÔ TẢ"
   ]
  },
  {
   "cell_type": "markdown",
   "metadata": {},
   "source": [
    "Thực hiện thống kê mô tả trên tập dữ liệu `mpg.csv`"
   ]
  },
  {
   "cell_type": "code",
   "execution_count": null,
   "metadata": {},
   "outputs": [],
   "source": []
  }
 ],
 "metadata": {
  "kernelspec": {
   "display_name": "Python 3 (ipykernel)",
   "language": "python",
   "name": "python3"
  },
  "language_info": {
   "codemirror_mode": {
    "name": "ipython",
    "version": 3
   },
   "file_extension": ".py",
   "mimetype": "text/x-python",
   "name": "python",
   "nbconvert_exporter": "python",
   "pygments_lexer": "ipython3",
   "version": "3.9.7"
  }
 },
 "nbformat": 4,
 "nbformat_minor": 4
}
