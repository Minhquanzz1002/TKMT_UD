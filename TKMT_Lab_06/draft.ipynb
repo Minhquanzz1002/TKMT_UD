{
 "cells": [
  {
   "cell_type": "markdown",
   "id": "0844343a-4194-461f-bc54-d3c41c022b32",
   "metadata": {},
   "source": [
    "# VD1\n",
    "\n",
    "![Ví dụ 1](./images/uoc-luong_bt1.png)"
   ]
  },
  {
   "cell_type": "markdown",
   "id": "1448c7a3-ebd5-4c83-8041-f8b87b8f76ef",
   "metadata": {},
   "source": [
    "## C1: Tính tay"
   ]
  },
  {
   "cell_type": "code",
   "execution_count": 1,
   "id": "310d0578-3300-446c-9c31-9a5a8514ef86",
   "metadata": {},
   "outputs": [],
   "source": [
    "import numpy as np\n",
    "import scipy.stats as st"
   ]
  },
  {
   "cell_type": "code",
   "execution_count": 2,
   "id": "4018a225-2990-4f06-9865-d1cf1312f544",
   "metadata": {},
   "outputs": [
    {
     "name": "stdout",
     "output_type": "stream",
     "text": [
      "[32, 32, 33, 33, 33, 34, 34, 34, 34, 34, 34, 34, 34, 34, 34, 34, 34, 34, 34, 34, 35, 35, 35, 35, 35, 35, 35, 35, 35, 35, 35, 35, 35, 35, 35, 35, 35, 35, 35, 35, 35, 35, 35, 35, 35, 35, 36, 36, 36, 36, 36, 36, 36, 36, 36, 36, 36, 36, 36, 36, 36, 36, 36, 36, 36, 36, 36, 36, 36, 36, 36, 36, 36, 36, 37, 37, 37, 37, 37, 37, 38, 38, 38, 38, 38, 38, 38, 38, 39, 39, 39, 39, 39, 39, 39, 39, 40, 40, 40, 40]\n"
     ]
    }
   ],
   "source": [
    "freq_table = [(32, 2), (33, 3), (34, 15), (35, 26), (36, 28), (37, 6), (38, 8), (39, 8), (40, 4)]\n",
    "\n",
    "# freq_table = [(32, 2), (33, 3), (34, 5), (35, 1)]\n",
    "\n",
    "sample = []\n",
    "for (value, freq) in freq_table:\n",
    "    for i in range(freq):\n",
    "        sample.append(value)\n",
    "\n",
    "print(sample)"
   ]
  },
  {
   "cell_type": "code",
   "execution_count": 3,
   "id": "dc0e04c7-c0e6-49fe-a199-eb113322aa22",
   "metadata": {},
   "outputs": [
    {
     "name": "stdout",
     "output_type": "stream",
     "text": [
      "Kich thuoc mau:  100\n",
      "Trung binh mau:  35.89\n",
      "Do lech chuan mau:  1.7916\n",
      "Ty le mau:  0.05\n"
     ]
    }
   ],
   "source": [
    "# B1: Tính trung binh mẫu, độ lệch chuẩn hiệu chỉnh (dolechchuanmau), tỷ lệ cam loại hai từ mẫu.\n",
    "n = len(sample)\n",
    "trungbinh_mau = np.mean(sample)\n",
    "dolechchuan_mau = round(np.std(sample, ddof=1), 4)\n",
    "tyle_mau = 5 / n\n",
    "\n",
    "\n",
    "print('Kich thuoc mau: ', n)\n",
    "print('Trung binh mau: ', trungbinh_mau)\n",
    "print('Do lech chuan mau: ', dolechchuan_mau)\n",
    "print('Ty le mau: ', tyle_mau)"
   ]
  },
  {
   "cell_type": "code",
   "execution_count": 4,
   "id": "4e0cdb00-1daa-4bdc-a7dc-479d941144a5",
   "metadata": {},
   "outputs": [],
   "source": [
    "import math"
   ]
  },
  {
   "cell_type": "code",
   "execution_count": 5,
   "id": "c2a2521f-f665-4e78-8dbe-64fb16b8808d",
   "metadata": {},
   "outputs": [
    {
     "name": "stdout",
     "output_type": "stream",
     "text": [
      "Sai so uoc luong:  0.3512\n",
      "Khoang uoc luong: (35.5388, 36.2412)\n"
     ]
    }
   ],
   "source": [
    "# Cau a: Ước lượng trung bình với độ tin cậy là 95%\n",
    "alpha = 1 - 0.95\n",
    "z_alpha_chia_2 = round(st.norm.isf(alpha/2), 2)\n",
    "\n",
    "saiso = round(z_alpha_chia_2 * dolechchuan_mau / math.sqrt(n), 4)\n",
    "\n",
    "print('Sai so uoc luong: ', saiso)\n",
    "print('Khoang uoc luong: ({}, {})'.format(trungbinh_mau-saiso, trungbinh_mau+saiso))"
   ]
  },
  {
   "cell_type": "markdown",
   "id": "d66be701-40dd-49fc-9d95-e8a15a4df007",
   "metadata": {},
   "source": [
    "**Sai số khi ước lượng trung bình**\n",
    "\n",
    "$$\\epsilon = z_{\\alpha/2} * \\frac{s}{\\sqrt{n}}$$"
   ]
  },
  {
   "cell_type": "code",
   "execution_count": 53,
   "id": "c010ef54-3850-4e9c-965a-14d7e7bcf1f2",
   "metadata": {},
   "outputs": [
    {
     "name": "stdout",
     "output_type": "stream",
     "text": [
      "Sai so uoc luong:  0.0357\n",
      "Khoang uoc luong: (0.0143, 0.0857)\n"
     ]
    }
   ],
   "source": [
    "# Cau b: uoc luong ty le voi do tin cay la 90%\n",
    "alpha = 1 - 0.9\n",
    "z_alpha_chia_2 = round(st.norm.isf(alpha/2), 2)\n",
    "\n",
    "# saiso = round(z_alpha_chia_2 * dolechchuan_mau / math.sqrt(n), 4)\n",
    "\n",
    "saiso = round(z_alpha_chia_2 * math.sqrt((tyle_mau * (1-tyle_mau)) / n), 4)\n",
    "\n",
    "print('Sai so uoc luong: ', saiso)\n",
    "print('Khoang uoc luong: ({}, {})'.format(tyle_mau-saiso, tyle_mau+saiso))"
   ]
  },
  {
   "cell_type": "markdown",
   "id": "674eec4b-315f-4494-824e-90ba86bbe990",
   "metadata": {},
   "source": [
    "**Sai số khi tỷ lệ**\n",
    "\n",
    "$$\\epsilon = z_{\\alpha/2} * \\sqrt{\\frac{f*(1-f)}{n}}$$\n",
    "\n",
    "với f là tỷ lệ mẫu"
   ]
  },
  {
   "cell_type": "markdown",
   "id": "530ae3e3-f4ce-4127-8cc5-359c318f8726",
   "metadata": {},
   "source": []
  },
  {
   "cell_type": "markdown",
   "id": "409296e9-264a-4a10-80be-639a73b7c3dc",
   "metadata": {},
   "source": [
    "## C2: Sử dụng thư viện"
   ]
  },
  {
   "cell_type": "code",
   "execution_count": 57,
   "id": "2f9bd727-e2eb-42a9-803e-ac3454e9bd6d",
   "metadata": {},
   "outputs": [
    {
     "data": {
      "text/plain": [
       "(35.53885285252981, 36.241147147470194)"
      ]
     },
     "execution_count": 57,
     "metadata": {},
     "output_type": "execute_result"
    }
   ],
   "source": [
    "# Cau a\n",
    "dlc_tbmau = dolechchuan_mau / math.sqrt(n)\n",
    "st.norm.interval(0.95, loc=trungbinh_mau, scale=dlc_tbmau)"
   ]
  },
  {
   "cell_type": "code",
   "execution_count": 59,
   "id": "ba5c74ff-3c8e-4f60-954b-aa30935eb20e",
   "metadata": {},
   "outputs": [
    {
     "data": {
      "text/plain": [
       "(35.53450769096771, 36.245492309032294)"
      ]
     },
     "execution_count": 59,
     "metadata": {},
     "output_type": "execute_result"
    }
   ],
   "source": [
    "## Phân phối student\n",
    "st.t.interval(0.95, df=n-1, loc=trungbinh_mau, scale=dlc_tbmau)"
   ]
  },
  {
   "cell_type": "code",
   "execution_count": 75,
   "id": "549e6755-801d-4517-83f2-41ab9eca2332",
   "metadata": {},
   "outputs": [
    {
     "data": {
      "text/plain": [
       "(0.014151246316010904, 0.08584875368398909)"
      ]
     },
     "execution_count": 75,
     "metadata": {},
     "output_type": "execute_result"
    }
   ],
   "source": [
    "# Cau b\n",
    "dlc_tylemau = math.sqrt((tyle_mau * (1-tyle_mau)) / n)\n",
    "st.norm.interval(0.9, loc=tyle_mau, scale=dlc_tylemau)"
   ]
  },
  {
   "cell_type": "markdown",
   "id": "fac19de5-dfbc-43fd-9907-ec6883866ac1",
   "metadata": {},
   "source": [
    "## Nháp"
   ]
  },
  {
   "cell_type": "markdown",
   "id": "09198135-a00b-4491-b2d7-c9a46004dead",
   "metadata": {},
   "source": [
    "Từ mẫu kích thước 100, tính được trung bình mẫu ($\\bar{x}$)"
   ]
  },
  {
   "cell_type": "markdown",
   "id": "e655603e-d87e-4d73-b2b5-ac62ff8ad5d4",
   "metadata": {},
   "source": [
    "$\\bar{x}$ có phân phối chuẩn: $\\bar{x}$ ~ $N(\\mu_{\\bar{x}}, \\sigma_{\\bar{x}})$"
   ]
  },
  {
   "cell_type": "markdown",
   "id": "adec8e93-4a55-4835-b92b-7dc51180737a",
   "metadata": {},
   "source": [
    "$\\mu_{\\bar{x}} = \\mu_x$"
   ]
  },
  {
   "cell_type": "markdown",
   "id": "05504de1-5f43-4518-88eb-34e4cb48b563",
   "metadata": {},
   "source": [
    "$\\sigma_{\\bar{x}} = \\frac{\\sigma_x}{\\sqrt{n}}$"
   ]
  },
  {
   "cell_type": "markdown",
   "id": "4181dfea-e5fb-4bc0-9a67-75349ff6898c",
   "metadata": {},
   "source": [
    "### Câu hỏi\n",
    "\n",
    "a. Khi nào $\\bar{x}$ có phân phối chuẩn\n",
    "\n",
    "b. Khi nào tỷ lệ mẫu ($f$) có phân phối chuẩn"
   ]
  },
  {
   "cell_type": "code",
   "execution_count": null,
   "id": "fa485ddf-c4b1-426b-a6cb-b9066eeca631",
   "metadata": {},
   "outputs": [],
   "source": []
  }
 ],
 "metadata": {
  "kernelspec": {
   "display_name": "Python 3 (ipykernel)",
   "language": "python",
   "name": "python3"
  },
  "language_info": {
   "codemirror_mode": {
    "name": "ipython",
    "version": 3
   },
   "file_extension": ".py",
   "mimetype": "text/x-python",
   "name": "python",
   "nbconvert_exporter": "python",
   "pygments_lexer": "ipython3",
   "version": "3.9.7"
  }
 },
 "nbformat": 4,
 "nbformat_minor": 5
}
