{
 "cells": [
  {
   "cell_type": "markdown",
   "metadata": {},
   "source": [
    "# BÀI TẬP ƯỚC LƯỢNG"
   ]
  },
  {
   "cell_type": "markdown",
   "metadata": {},
   "source": [
    "## <u>Bài 1</u>"
   ]
  },
  {
   "cell_type": "markdown",
   "metadata": {},
   "source": [
    "Green M&M Candies liên quan đến Dataset 18 trong file excel. Tìm tỉ lệ mẫu của M&M có màu xanh lá cây (green). Sử dụng kết quả để xây dựng 1 ước lượng khoảng tin cậy 95% của % quần thể M&M có màu xanh. Có phải kết quả này có nhất quán với tỉ lệ 16% được báo cáo bởi nhà sản xuất kẹo. Tại sao nhất quán và tại sao không? "
   ]
  },
  {
   "cell_type": "code",
   "execution_count": 34,
   "metadata": {
    "collapsed": true,
    "jupyter": {
     "outputs_hidden": true
    }
   },
   "outputs": [],
   "source": [
    "import numpy as np\n",
    "import pandas as pd\n",
    "import math\n",
    "import scipy.stats as st"
   ]
  },
  {
   "cell_type": "code",
   "execution_count": 7,
   "metadata": {
    "collapsed": true,
    "jupyter": {
     "outputs_hidden": true
    }
   },
   "outputs": [
    {
     "data": {
      "text/html": [
       "<div>\n",
       "<style scoped>\n",
       "    .dataframe tbody tr th:only-of-type {\n",
       "        vertical-align: middle;\n",
       "    }\n",
       "\n",
       "    .dataframe tbody tr th {\n",
       "        vertical-align: top;\n",
       "    }\n",
       "\n",
       "    .dataframe thead th {\n",
       "        text-align: right;\n",
       "    }\n",
       "</style>\n",
       "<table border=\"1\" class=\"dataframe\">\n",
       "  <thead>\n",
       "    <tr style=\"text-align: right;\">\n",
       "      <th></th>\n",
       "      <th>Red</th>\n",
       "      <th>Orange</th>\n",
       "      <th>Yellow</th>\n",
       "      <th>Brown</th>\n",
       "      <th>Blue</th>\n",
       "      <th>Green</th>\n",
       "    </tr>\n",
       "  </thead>\n",
       "  <tbody>\n",
       "    <tr>\n",
       "      <th>0</th>\n",
       "      <td>0.751</td>\n",
       "      <td>0.735</td>\n",
       "      <td>0.883</td>\n",
       "      <td>0.696</td>\n",
       "      <td>0.881</td>\n",
       "      <td>0.925</td>\n",
       "    </tr>\n",
       "    <tr>\n",
       "      <th>1</th>\n",
       "      <td>0.841</td>\n",
       "      <td>0.895</td>\n",
       "      <td>0.769</td>\n",
       "      <td>0.876</td>\n",
       "      <td>0.863</td>\n",
       "      <td>0.914</td>\n",
       "    </tr>\n",
       "    <tr>\n",
       "      <th>2</th>\n",
       "      <td>0.856</td>\n",
       "      <td>0.865</td>\n",
       "      <td>0.859</td>\n",
       "      <td>0.855</td>\n",
       "      <td>0.775</td>\n",
       "      <td>0.881</td>\n",
       "    </tr>\n",
       "    <tr>\n",
       "      <th>3</th>\n",
       "      <td>0.799</td>\n",
       "      <td>0.864</td>\n",
       "      <td>0.784</td>\n",
       "      <td>0.806</td>\n",
       "      <td>0.854</td>\n",
       "      <td>0.865</td>\n",
       "    </tr>\n",
       "    <tr>\n",
       "      <th>4</th>\n",
       "      <td>0.966</td>\n",
       "      <td>0.852</td>\n",
       "      <td>0.824</td>\n",
       "      <td>0.840</td>\n",
       "      <td>0.810</td>\n",
       "      <td>0.865</td>\n",
       "    </tr>\n",
       "    <tr>\n",
       "      <th>5</th>\n",
       "      <td>0.859</td>\n",
       "      <td>0.866</td>\n",
       "      <td>0.858</td>\n",
       "      <td>0.868</td>\n",
       "      <td>0.858</td>\n",
       "      <td>1.015</td>\n",
       "    </tr>\n",
       "    <tr>\n",
       "      <th>6</th>\n",
       "      <td>0.857</td>\n",
       "      <td>0.859</td>\n",
       "      <td>0.848</td>\n",
       "      <td>0.859</td>\n",
       "      <td>0.818</td>\n",
       "      <td>0.876</td>\n",
       "    </tr>\n",
       "    <tr>\n",
       "      <th>7</th>\n",
       "      <td>0.942</td>\n",
       "      <td>0.838</td>\n",
       "      <td>0.851</td>\n",
       "      <td>0.982</td>\n",
       "      <td>0.868</td>\n",
       "      <td>0.809</td>\n",
       "    </tr>\n",
       "    <tr>\n",
       "      <th>8</th>\n",
       "      <td>0.873</td>\n",
       "      <td>0.863</td>\n",
       "      <td>NaN</td>\n",
       "      <td>NaN</td>\n",
       "      <td>0.803</td>\n",
       "      <td>0.865</td>\n",
       "    </tr>\n",
       "    <tr>\n",
       "      <th>9</th>\n",
       "      <td>0.809</td>\n",
       "      <td>0.888</td>\n",
       "      <td>NaN</td>\n",
       "      <td>NaN</td>\n",
       "      <td>0.932</td>\n",
       "      <td>0.848</td>\n",
       "    </tr>\n",
       "  </tbody>\n",
       "</table>\n",
       "</div>"
      ],
      "text/plain": [
       "     Red  Orange  Yellow  Brown   Blue  Green\n",
       "0  0.751   0.735   0.883  0.696  0.881  0.925\n",
       "1  0.841   0.895   0.769  0.876  0.863  0.914\n",
       "2  0.856   0.865   0.859  0.855  0.775  0.881\n",
       "3  0.799   0.864   0.784  0.806  0.854  0.865\n",
       "4  0.966   0.852   0.824  0.840  0.810  0.865\n",
       "5  0.859   0.866   0.858  0.868  0.858  1.015\n",
       "6  0.857   0.859   0.848  0.859  0.818  0.876\n",
       "7  0.942   0.838   0.851  0.982  0.868  0.809\n",
       "8  0.873   0.863     NaN    NaN  0.803  0.865\n",
       "9  0.809   0.888     NaN    NaN  0.932  0.848"
      ]
     },
     "execution_count": 7,
     "metadata": {},
     "output_type": "execute_result"
    }
   ],
   "source": [
    "'./data/18_M&M.xls'df = pd.read_excel()\n",
    "df.head(10)"
   ]
  },
  {
   "cell_type": "code",
   "execution_count": 43,
   "metadata": {},
   "outputs": [],
   "source": [
    "df = df[['Green']]"
   ]
  },
  {
   "cell_type": "code",
   "execution_count": 39,
   "metadata": {},
   "outputs": [
    {
     "name": "stdout",
     "output_type": "stream",
     "text": [
      "Kích thước mẫu: 27\n",
      "Trung bình mẫu: 0.86\n",
      "Độ lệch chuẩn mẫu: 0.057\n"
     ]
    }
   ],
   "source": [
    "n = len(df)\n",
    "N = df['Red'].count()+df['Orange'].count()+df['Yellow'].count()+df['Brown'].count()+df['Blue'].count()+df['Green'].count()\n",
    "tb_mau = round(df.mean().Green, 2)\n",
    "dolechchuan_mau = round(df.std().Green, 4)\n",
    "tyle_mau = n/N\n",
    "\n",
    "print('Kích thước mẫu:', n)\n",
    "print('Trung bình mẫu:',tb_mau)\n",
    "print('Độ lệch chuẩn mẫu:',dolechchuan_mau)"
   ]
  },
  {
   "cell_type": "code",
   "execution_count": 35,
   "metadata": {},
   "outputs": [
    {
     "data": {
      "text/plain": [
       "(0.8384998710525527, 0.8815001289474472)"
      ]
     },
     "execution_count": 35,
     "metadata": {},
     "output_type": "execute_result"
    }
   ],
   "source": [
    "dcl_tbmau = dolechchuan_mau / math.sqrt(n)\n",
    "st.norm.interval(0.95, loc=tb_mau, scale=dcl_tbmau)"
   ]
  },
  {
   "cell_type": "code",
   "execution_count": 45,
   "metadata": {},
   "outputs": [
    {
     "data": {
      "text/plain": [
       "nan"
      ]
     },
     "execution_count": 45,
     "metadata": {},
     "output_type": "execute_result"
    }
   ],
   "source": [
    "st.sem(df['Green'])"
   ]
  },
  {
   "cell_type": "code",
   "execution_count": 41,
   "metadata": {},
   "outputs": [
    {
     "data": {
      "text/plain": [
       "(0.10254060375402307, 0.43745939624597696)"
      ]
     },
     "execution_count": 41,
     "metadata": {},
     "output_type": "execute_result"
    }
   ],
   "source": [
    "dlc_tylemau = math.sqrt((tyle_mau * (1-tyle_mau)) / n)\n",
    "st.norm.interval(0.95, loc=tyle_mau, scale=dlc_tylemau)"
   ]
  },
  {
   "cell_type": "code",
   "execution_count": 38,
   "metadata": {},
   "outputs": [
    {
     "name": "stdout",
     "output_type": "stream",
     "text": [
      "<class 'pandas.core.frame.DataFrame'>\n",
      "RangeIndex: 27 entries, 0 to 26\n",
      "Data columns (total 6 columns):\n",
      " #   Column  Non-Null Count  Dtype  \n",
      "---  ------  --------------  -----  \n",
      " 0   Red     13 non-null     float64\n",
      " 1   Orange  25 non-null     float64\n",
      " 2   Yellow  8 non-null      float64\n",
      " 3   Brown   8 non-null      float64\n",
      " 4   Blue    27 non-null     float64\n",
      " 5   Green   19 non-null     float64\n",
      "dtypes: float64(6)\n",
      "memory usage: 1.4 KB\n",
      "Tỉ lệ =  0.19\n",
      "z_anpha/2 =  1.9599639845400545\n",
      "Độ lỗi =  0.07688956447430471\n",
      "Độ tin cậy =  0.11311043552569529 0.26688956447430473\n"
     ]
    }
   ],
   "source": [
    "path_excel = './data/18_M&M.xls'\n",
    "data18= pd.read_excel(path_excel)\n",
    "data18.info()\n",
    "\n",
    "df = pd.DataFrame(data18, columns= ['Red', 'Orange', 'Yellow', 'Brown', 'Blue', 'Green'])\n",
    "# n: Kích thước mẫu kẹo có màu xanh lá\n",
    "n = df['Green'].count() \n",
    "# N: Kích thước mẫu kẹo có các màu bất kỳ\n",
    "N = df['Red'].count()+df['Orange'].count()+df['Yellow'].count()+df['Brown'].count()+df['Blue'].count()+df['Green'].count()\n",
    "\n",
    "print(\"Tỉ lệ = \", n/N)\n",
    "p_mu = n/N\n",
    "q_mu = 1 - p_mu\n",
    "\n",
    "z_anphachia2 = (-1) * st.norm.ppf(.025, 0, 1)\n",
    "\n",
    "print(\"z_anpha/2 = \", z_anphachia2)\n",
    "E = z_anphachia2 * np.sqrt((p_mu*q_mu)/N)\n",
    "print(\"Độ lỗi = \", E)\n",
    "print(\"Độ tin cậy = \", p_mu - E, p_mu + E)"
   ]
  },
  {
   "cell_type": "markdown",
   "metadata": {},
   "source": [
    "## <u>Bài 2</u>"
   ]
  },
  {
   "cell_type": "markdown",
   "metadata": {},
   "source": [
    "Freshman Weight Gain liên quan đến Dataset 3 trong file excel\n",
    "\n",
    "a. Dựa vào kết quả của mẫu, tìm ước lượng điểm tốt nhất của tỉ lệ phần trăm các sinh viên cao đẳng tăng cân trong năm thứ 1.\n",
    "\n",
    "b. Xây dựng ước lượng khoảng tin cậy 95% về tỉ lệ phần trăm các sinh viên cao đẳng tăng cân trong năm thứ 1.\n",
    "\n",
    "c. Giả sử rằng bạn là nhà báo, viết phát biểu mô tả kết quả trên. Bao gồm các thông tin liên quan."
   ]
  },
  {
   "cell_type": "code",
   "execution_count": null,
   "metadata": {
    "collapsed": true,
    "jupyter": {
     "outputs_hidden": true
    }
   },
   "outputs": [],
   "source": []
  },
  {
   "cell_type": "markdown",
   "metadata": {},
   "source": [
    "## <u>Bài 3</u>"
   ]
  },
  {
   "cell_type": "markdown",
   "metadata": {},
   "source": [
    "Lượng mưa ở Boston: liên quan đến Dataset 14 trong file excel, và quan tâm đến các ngày với các giá trị lượng mưa khác nhau từ 0 đến các ngày có mưa có giá trị lượng mưa lớn hơn 0. Xây dựng ước lượng khoảng tin cậy 95% cho tỉ lệ mưa trong các ngày Thứ Tư và xây dựng ước lượng khoảng tin cậy 95% cho tỉ lệ mưa trong các ngày Chủ Nhật. So sánh kết quả. Có phải lượng mưa xuất hiện ở các ngày này nhiều hơn so với các ngày khác hay không?"
   ]
  },
  {
   "cell_type": "code",
   "execution_count": null,
   "metadata": {
    "collapsed": true,
    "jupyter": {
     "outputs_hidden": true
    }
   },
   "outputs": [],
   "source": []
  },
  {
   "cell_type": "markdown",
   "metadata": {},
   "source": [
    "## <u>Bài 4</u>"
   ]
  },
  {
   "cell_type": "markdown",
   "metadata": {},
   "source": [
    "Bình chọn phim: liên quan đến Dataset 19 trong file excel. Tìm tỉ lệ phim với tỉ lệ bình chọn là R. Sử dụng tỉ lệ đó để xây dựng ước lượng khoảng tin cậy 95% cho tỉ lệ các phim với kết quả bình chọn là R. Giả sử rằng các phim trên đã liệt kê trong file được lấy mẫu theo phương pháp lấy mẫu ngẫu nhiên đơn giản, chúng ta có thể kết luận rằng hầu như các phim có tỉ lệ bình chọn khác R không? Tại sao có hoặc tại sao không?"
   ]
  },
  {
   "cell_type": "code",
   "execution_count": null,
   "metadata": {
    "collapsed": true,
    "jupyter": {
     "outputs_hidden": true
    }
   },
   "outputs": [],
   "source": []
  },
  {
   "cell_type": "markdown",
   "metadata": {},
   "source": [
    "## <u>Bài 5</u>"
   ]
  },
  {
   "cell_type": "markdown",
   "metadata": {},
   "source": [
    "Tổng số tiền phim: liên quan đến Dataset 9 trong file excel. Xây dựng ước tính khoảng thời gian tin cậy 95% của tổng số tiền trung bình cho quần thể của tất cả các phim. Giả định rằng độ lệch chuẩn của quần thể được biết là 100 triệu đô la. "
   ]
  },
  {
   "cell_type": "code",
   "execution_count": null,
   "metadata": {
    "collapsed": true,
    "jupyter": {
     "outputs_hidden": true
    }
   },
   "outputs": [],
   "source": []
  },
  {
   "cell_type": "markdown",
   "metadata": {},
   "source": [
    "## <u>Bài 6</u>"
   ]
  },
  {
   "cell_type": "markdown",
   "metadata": {},
   "source": [
    "Điểm đánh giá tín dụng FICO: liên quan đến Dataset 24 trong file excel. Xây dựng ước lượng khoảng tin cậy 99% của điểm FICO trung bình cho quần thể. Giả sử độ lệch chuẩn của quần thể là 92,2."
   ]
  },
  {
   "cell_type": "code",
   "execution_count": null,
   "metadata": {
    "collapsed": true,
    "jupyter": {
     "outputs_hidden": true
    }
   },
   "outputs": [],
   "source": []
  },
  {
   "cell_type": "markdown",
   "metadata": {},
   "source": [
    "## <u>Bài 7</u>"
   ]
  },
  {
   "cell_type": "markdown",
   "metadata": {},
   "source": [
    "Nicotine trong thuốc lá: Nicotine trong thuốc lá: liên quan đến Dataset 4 trong file excel. Giả định rằng các mẫu là các mẫu ngẫu nhiên đơn giản thu được từ các quần thể có phân phối chuẩn. \n",
    "\n",
    "a.\tXây dựng ước lượng khoảng tin cậy 95% lượng nicotin trung bình trong thuốc lá có kích thước vừa, không lọc, không menthol, và không ánh sáng.  \n",
    "\n",
    "b.\tXây dựng ước lượng khoảng tin cậy 95% lượng nicotin trung bình trong thuốc lá có chiều dài 100 mm, được lọc, không menthol và không sáng. \n",
    "\n",
    "c.\tSo sánh kết quả. Bộ lọc trên thuốc lá có vẻ hiệu quả không?"
   ]
  },
  {
   "cell_type": "code",
   "execution_count": null,
   "metadata": {
    "collapsed": true,
    "jupyter": {
     "outputs_hidden": true
    }
   },
   "outputs": [],
   "source": []
  },
  {
   "cell_type": "markdown",
   "metadata": {},
   "source": [
    "## <u>Bài 8</u>"
   ]
  },
  {
   "cell_type": "markdown",
   "metadata": {},
   "source": [
    "Nhịp tim: Một bác sĩ muốn phát triển các tiêu chí để xác định xem bệnh nhân có nhịp tim không bình thường, và cô ấy muốn xác định liệu có sự khác biệt đáng kể giữa nam và nữ. Sử dụng nhịp tim mẫu trong Dataset 1.\n",
    "\n",
    "a.\tXây dựng ước lượng khoảng tin cậy 95% của nhịp tim trung bình cho nam.\n",
    "\n",
    "b.\tXây dựng ước tính khoảng tin cậy 95% của nhịp tim trung bình cho nữ.\n",
    "\n",
    "c.\tSo sánh các kết quả trước đó. Chúng ta có thể kết luận rằng trung bình quần thể cho nam và nữ có khác nhau không? Tại sao có hay tại sao không?"
   ]
  },
  {
   "cell_type": "code",
   "execution_count": null,
   "metadata": {
    "collapsed": true,
    "jupyter": {
     "outputs_hidden": true
    }
   },
   "outputs": [],
   "source": []
  },
  {
   "cell_type": "markdown",
   "metadata": {},
   "source": [
    "## <u>Bài 9</u>"
   ]
  },
  {
   "cell_type": "markdown",
   "metadata": {},
   "source": [
    "Điểm xếp hạng tín dụng FICO liên quan đến Dataset 24 trong file excel. \n",
    "Sử dụng điểm xếp hạng tín dụng để xây dựng ước lượng khoảng tin cậy 95% độ lệch chuẩn của tất cả điểm xếp hạng tín dụng."
   ]
  },
  {
   "cell_type": "code",
   "execution_count": null,
   "metadata": {
    "collapsed": true,
    "jupyter": {
     "outputs_hidden": true
    }
   },
   "outputs": [],
   "source": []
  },
  {
   "cell_type": "markdown",
   "metadata": {},
   "source": [
    "## <u>Bài 10</u>"
   ]
  },
  {
   "cell_type": "markdown",
   "metadata": {},
   "source": [
    "Việc tiêu thụ năng lượng tại nhà: liên quan đến Dataset 12 trong file excel. Sử dụng mẫu lượng tiêu thụ năng lượng tại nhà (tính bằng kWh) để xây dựng ước lượng khoảng tin cậy 99% độ lệch chuẩn của tất cả các mức tiêu thụ năng lượng."
   ]
  },
  {
   "cell_type": "code",
   "execution_count": null,
   "metadata": {
    "collapsed": true,
    "jupyter": {
     "outputs_hidden": true
    }
   },
   "outputs": [],
   "source": []
  }
 ],
 "metadata": {
  "kernelspec": {
   "display_name": "Python 3 (ipykernel)",
   "language": "python",
   "name": "python3"
  },
  "language_info": {
   "codemirror_mode": {
    "name": "ipython",
    "version": 3
   },
   "file_extension": ".py",
   "mimetype": "text/x-python",
   "name": "python",
   "nbconvert_exporter": "python",
   "pygments_lexer": "ipython3",
   "version": "3.9.7"
  }
 },
 "nbformat": 4,
 "nbformat_minor": 4
}
