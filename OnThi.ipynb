{
 "cells": [
  {
   "cell_type": "code",
   "execution_count": 1,
   "metadata": {},
   "outputs": [],
   "source": [
    "import numpy as np\n",
    "import scipy.stats as st\n",
    "import math"
   ]
  },
  {
   "cell_type": "markdown",
   "metadata": {},
   "source": [
    "### Ước lượng"
   ]
  },
  {
   "cell_type": "markdown",
   "metadata": {},
   "source": [
    "<p>Để đánh giá mức tiêu thụ điện X(kW/tháng) của dân cư trong một vùng, công ty điện lực tiến hành kiểm tra 400 hộ thì có kết quả như sau:</p>\n",
    "<table>\n",
    "<thead>\n",
    "  <tr>\n",
    "    <th>X</th>\n",
    "    <td>0-100</td>\n",
    "    <td>100-200</td>\n",
    "    <td>200-300</td>\n",
    "    <td>300-400</td>\n",
    "    <td>400-500</td>\n",
    "    <td>500-600</td>\n",
    "  </tr>\n",
    "</thead>\n",
    "<tbody>\n",
    "  <tr>\n",
    "    <th>Số hộ</th>\n",
    "    <td>20</td>\n",
    "    <td>110</td>\n",
    "    <td>150</td>\n",
    "    <td>64</td>\n",
    "    <td>46</td>\n",
    "    <td>10</td>\n",
    "  </tr>\n",
    "</tbody>\n",
    "</table>\n",
    "<p>Lưu ý: Để tăng độ chính xác, khi tính toán các bạn nên làm tròn đến 5 chữ số thập phân.</p>"
   ]
  },
  {
   "cell_type": "code",
   "execution_count": 36,
   "metadata": {},
   "outputs": [],
   "source": [
    "table_dien = [(50, 20), (150, 110), (250, 150), (350, 64), (450, 46), (550, 10)]\n",
    "data_dien = []\n",
    "for(value, freq) in table_dien:\n",
    "    for i in range(freq):\n",
    "        data_dien.append(value)"
   ]
  },
  {
   "cell_type": "markdown",
   "metadata": {},
   "source": [
    "<p>1. Ước lượng mức tiêu thụ điện trung bình của mỗi hộ dân với độ tin cậy 97%</p>"
   ]
  },
  {
   "cell_type": "code",
   "execution_count": 37,
   "metadata": {},
   "outputs": [
    {
     "data": {
      "text/plain": [
       "(247.76140971552857, 270.23859028447146)"
      ]
     },
     "execution_count": 37,
     "metadata": {},
     "output_type": "execute_result"
    }
   ],
   "source": [
    "trungbinh_maubai1 = np.mean(data_dien)\n",
    "dolechchuan_maubai1 = round(np.std(data_dien, ddof=1), 4)\n",
    "n_bai1 = len(data_dien)\n",
    "dlc_tbmaubai1 = dolechchuan_maubai1 / math.sqrt(n_bai1)\n",
    "st.norm.interval(0.95, loc=trungbinh_maubai1, scale=dlc_tbmaubai1)"
   ]
  },
  {
   "cell_type": "markdown",
   "metadata": {},
   "source": [
    "<p>2. Sử dụng bảng số liệu trên để ước lượng mức tiêu thụ điện trung bình của mỗi hộ dân ở vùng A trong 1 tháng với độ chính xác là 13.7013 KW thì đảm bảo độ tin cậy là bao nhiêu?</p>"
   ]
  },
  {
   "cell_type": "code",
   "execution_count": 42,
   "metadata": {},
   "outputs": [
    {
     "data": {
      "text/plain": [
       "0.9831170248948505"
      ]
     },
     "execution_count": 42,
     "metadata": {},
     "output_type": "execute_result"
    }
   ],
   "source": [
    "z_alphachia2 = (13.70013 * math.sqrt(n_bai1)) / dolechchuan_maubai1\n",
    "1 - st.norm.sf(z_alphachia2)*2"
   ]
  },
  {
   "cell_type": "markdown",
   "metadata": {},
   "source": [
    "<p>3. Giả sử vùng này có 10000 hộ dân. Những hộ dân có mức tiêu thụ điện trên 400kW/tháng là những hộ tiệu thụ điện cao. Với mức tin cậy 95%, bạn hãy ước lượng số hộ dân tiêu thụ điện cao trong vùng.</p>\n"
   ]
  },
  {
   "cell_type": "code",
   "execution_count": null,
   "metadata": {},
   "outputs": [],
   "source": []
  },
  {
   "cell_type": "markdown",
   "metadata": {},
   "source": [
    "<p>4. Những hộ dân có mức tiêu thụ điện trên 400kW/tháng là những hộ tiệu thụ điện cao. Sử dụng bảng số liệu trên để ước lượng tỷ lệ hộ dân tiêu thụ điện cao trong vùng A với độ chính xác là 4.27% thì đảm bảo độ tin cậy là bao nhiêu?</p>"
   ]
  },
  {
   "cell_type": "code",
   "execution_count": null,
   "metadata": {},
   "outputs": [],
   "source": []
  },
  {
   "cell_type": "markdown",
   "metadata": {},
   "source": [
    "<p>5. Khảo sát về thu nhập của một số người làm việc ở một công ty, người ta thu được số liệu sau (đơn vị: triệu đồng/năm):<br><br>\n",
    "(120; 140; 80; 100; 160; 110; 120; 140; 130; 170; 130; 160; 120; 100; 130; 140; 150; 140; 140; 130; 130)<br><br>\n",
    "Với độ tin cậy 95%, độ chính xác khi ước lượng thu nhập trung bình của công ty là:</p>"
   ]
  },
  {
   "cell_type": "code",
   "execution_count": 34,
   "metadata": {},
   "outputs": [
    {
     "data": {
      "text/plain": [
       "9.813220507124528"
      ]
     },
     "execution_count": 34,
     "metadata": {},
     "output_type": "execute_result"
    }
   ],
   "source": [
    "data_bai5 = [120, 140, 80, 100, 160, 110, 120, 140, 130, 170, 130, 160, 120, 100, 130, 140, 150, 140, 140, 130, 130]\n",
    "trungbinh_maubai5 = np.mean(data_bai5)\n",
    "dolechchuan_maubai5 = round(np.std(data_bai5, ddof=1), 4)\n",
    "n_bai5 = len(data_bai5)\n",
    "dlc_tbmaubai5 = dolechchuan_maubai5 / math.sqrt(n_bai5)\n",
    "ketqua_bai5 = st.t.isf(0.025, df=n_bai5-1) * dlc_tbmaubai5\n",
    "ketqua_bai5"
   ]
  },
  {
   "cell_type": "markdown",
   "metadata": {},
   "source": [
    "<p>6. Khảo sát 179 sinh viên thì tổng chi tiêu trung bình hàng tháng là 2.18 triệu đồng với độ lệch chuẩn là 640 nghìn. Tìm khoảng ước lượng về chi tiêu của sinh viên với độ tin cậy là 93%</p>"
   ]
  },
  {
   "cell_type": "code",
   "execution_count": 33,
   "metadata": {},
   "outputs": [
    {
     "name": "stdout",
     "output_type": "stream",
     "text": [
      "[2093325.720198621, 2266674.279801379]\n"
     ]
    }
   ],
   "source": [
    "trungbinh_maubai6 = 2180000\n",
    "dolechchuan_maubai6 = 640000\n",
    "n_bai6 = 179\n",
    "dlc_tbmaubai6 = dolechchuan_maubai6 / math.sqrt(n_bai6)\n",
    "saiso_bai6 = st.norm.isf((1-0.93)/2) * dlc_tbmaubai6\n",
    "print('[{}, {}]'.format(trungbinh_maubai6 - saiso_bai6, trungbinh_maubai6 + saiso_bai6))"
   ]
  },
  {
   "cell_type": "code",
   "execution_count": 30,
   "metadata": {},
   "outputs": [
    {
     "data": {
      "text/plain": [
       "(2093325.720198621, 2266674.279801379)"
      ]
     },
     "execution_count": 30,
     "metadata": {},
     "output_type": "execute_result"
    }
   ],
   "source": [
    "st.norm.interval(0.93, loc=trungbinh_maubai6, scale=dlc_tbmaubai6)"
   ]
  },
  {
   "cell_type": "markdown",
   "metadata": {},
   "source": [
    "### Kiểm định"
   ]
  },
  {
   "cell_type": "markdown",
   "metadata": {},
   "source": [
    "<p>Khảo sát lượng sữa vắt được X (lít/ngày) của một giống bò sữa trong một trang trại tại Bình Định. Tiến hành lấy mẫu người ta thu được bảng số liệu sau:</p>\n",
    "<table>\n",
    "<thead>\n",
    "  <tr>\n",
    "    <th>X</th>\n",
    "    <td>6-8</td>\n",
    "    <td>8-10</td>\n",
    "    <td>10-12</td>\n",
    "    <td>12-14</td>\n",
    "    <td>14-16</td>\n",
    "  </tr>\n",
    "</thead>\n",
    "<tbody>\n",
    "  <tr>\n",
    "    <th>Số hộ</th>\n",
    "    <td>10</td>\n",
    "    <td>32</td>\n",
    "    <td>80</td>\n",
    "    <td>39</td>\n",
    "    <td>8</td>\n",
    "  </tr>\n",
    "</tbody>\n",
    "</table>\n",
    "<p>Lưu ý: Để tăng độ chính xác, khi tính toán các bạn nên làm tròn đến 5 chữ số thập phân.</p>"
   ]
  },
  {
   "cell_type": "code",
   "execution_count": 7,
   "metadata": {},
   "outputs": [],
   "source": [
    "table = [(7, 10), (9, 32), (11, 80), (13, 39), (15, 8)]\n",
    "\n",
    "data_sua = []\n",
    "for(value, freq) in table:\n",
    "    for i in range(freq):\n",
    "        data_sua.append(value)"
   ]
  },
  {
   "cell_type": "markdown",
   "metadata": {},
   "source": [
    "<p>7. Giá trị thống kê t để kiểm định giả thuyết \"Lượng sữa trung bình vắt được trong ngày là 11.3 lít\"</p>"
   ]
  },
  {
   "cell_type": "code",
   "execution_count": 8,
   "metadata": {},
   "outputs": [
    {
     "data": {
      "text/plain": [
       "11.035502958579881"
      ]
     },
     "execution_count": 8,
     "metadata": {},
     "output_type": "execute_result"
    }
   ],
   "source": [
    "trungbinh_maubai7 = np.mean(data_sua)\n",
    "trungbinh_maubai7\n"
   ]
  },
  {
   "cell_type": "code",
   "execution_count": 10,
   "metadata": {},
   "outputs": [
    {
     "data": {
      "text/plain": [
       "1.8448560762171886"
      ]
     },
     "execution_count": 10,
     "metadata": {},
     "output_type": "execute_result"
    }
   ],
   "source": [
    "dlc_maubai7 = np.std(data_sua, ddof=1)\n",
    "dlc_maubai7"
   ]
  },
  {
   "cell_type": "code",
   "execution_count": 17,
   "metadata": {},
   "outputs": [
    {
     "ename": "TypeError",
     "evalue": "_parse_args() got multiple values for argument 'loc'",
     "output_type": "error",
     "traceback": [
      "\u001b[1;31m---------------------------------------------------------------------------\u001b[0m",
      "\u001b[1;31mTypeError\u001b[0m                                 Traceback (most recent call last)",
      "\u001b[1;32m~\\AppData\\Local\\Temp/ipykernel_14332/3609365220.py\u001b[0m in \u001b[0;36m<module>\u001b[1;34m\u001b[0m\n\u001b[1;32m----> 1\u001b[1;33m \u001b[0mst\u001b[0m\u001b[1;33m.\u001b[0m\u001b[0mnorm\u001b[0m\u001b[1;33m.\u001b[0m\u001b[0mmedian\u001b[0m\u001b[1;33m(\u001b[0m\u001b[0mdata_sua\u001b[0m\u001b[1;33m,\u001b[0m \u001b[0mloc\u001b[0m\u001b[1;33m=\u001b[0m\u001b[1;36m0\u001b[0m\u001b[1;33m,\u001b[0m \u001b[0mscale\u001b[0m\u001b[1;33m=\u001b[0m\u001b[1;36m1\u001b[0m\u001b[1;33m)\u001b[0m\u001b[1;33m\u001b[0m\u001b[1;33m\u001b[0m\u001b[0m\n\u001b[0m",
      "\u001b[1;32mC:\\Python39\\lib\\site-packages\\scipy\\stats\\_distn_infrastructure.py\u001b[0m in \u001b[0;36mmedian\u001b[1;34m(self, *args, **kwds)\u001b[0m\n\u001b[0;32m   1324\u001b[0m \u001b[1;33m\u001b[0m\u001b[0m\n\u001b[0;32m   1325\u001b[0m         \"\"\"\n\u001b[1;32m-> 1326\u001b[1;33m         \u001b[1;32mreturn\u001b[0m \u001b[0mself\u001b[0m\u001b[1;33m.\u001b[0m\u001b[0mppf\u001b[0m\u001b[1;33m(\u001b[0m\u001b[1;36m0.5\u001b[0m\u001b[1;33m,\u001b[0m \u001b[1;33m*\u001b[0m\u001b[0margs\u001b[0m\u001b[1;33m,\u001b[0m \u001b[1;33m**\u001b[0m\u001b[0mkwds\u001b[0m\u001b[1;33m)\u001b[0m\u001b[1;33m\u001b[0m\u001b[1;33m\u001b[0m\u001b[0m\n\u001b[0m\u001b[0;32m   1327\u001b[0m \u001b[1;33m\u001b[0m\u001b[0m\n\u001b[0;32m   1328\u001b[0m     \u001b[1;32mdef\u001b[0m \u001b[0mmean\u001b[0m\u001b[1;33m(\u001b[0m\u001b[0mself\u001b[0m\u001b[1;33m,\u001b[0m \u001b[1;33m*\u001b[0m\u001b[0margs\u001b[0m\u001b[1;33m,\u001b[0m \u001b[1;33m**\u001b[0m\u001b[0mkwds\u001b[0m\u001b[1;33m)\u001b[0m\u001b[1;33m:\u001b[0m\u001b[1;33m\u001b[0m\u001b[1;33m\u001b[0m\u001b[0m\n",
      "\u001b[1;32mC:\\Python39\\lib\\site-packages\\scipy\\stats\\_distn_infrastructure.py\u001b[0m in \u001b[0;36mppf\u001b[1;34m(self, q, *args, **kwds)\u001b[0m\n\u001b[0;32m   2115\u001b[0m \u001b[1;33m\u001b[0m\u001b[0m\n\u001b[0;32m   2116\u001b[0m         \"\"\"\n\u001b[1;32m-> 2117\u001b[1;33m         \u001b[0margs\u001b[0m\u001b[1;33m,\u001b[0m \u001b[0mloc\u001b[0m\u001b[1;33m,\u001b[0m \u001b[0mscale\u001b[0m \u001b[1;33m=\u001b[0m \u001b[0mself\u001b[0m\u001b[1;33m.\u001b[0m\u001b[0m_parse_args\u001b[0m\u001b[1;33m(\u001b[0m\u001b[1;33m*\u001b[0m\u001b[0margs\u001b[0m\u001b[1;33m,\u001b[0m \u001b[1;33m**\u001b[0m\u001b[0mkwds\u001b[0m\u001b[1;33m)\u001b[0m\u001b[1;33m\u001b[0m\u001b[1;33m\u001b[0m\u001b[0m\n\u001b[0m\u001b[0;32m   2118\u001b[0m         \u001b[0mq\u001b[0m\u001b[1;33m,\u001b[0m \u001b[0mloc\u001b[0m\u001b[1;33m,\u001b[0m \u001b[0mscale\u001b[0m \u001b[1;33m=\u001b[0m \u001b[0mmap\u001b[0m\u001b[1;33m(\u001b[0m\u001b[0masarray\u001b[0m\u001b[1;33m,\u001b[0m \u001b[1;33m(\u001b[0m\u001b[0mq\u001b[0m\u001b[1;33m,\u001b[0m \u001b[0mloc\u001b[0m\u001b[1;33m,\u001b[0m \u001b[0mscale\u001b[0m\u001b[1;33m)\u001b[0m\u001b[1;33m)\u001b[0m\u001b[1;33m\u001b[0m\u001b[1;33m\u001b[0m\u001b[0m\n\u001b[0;32m   2119\u001b[0m         \u001b[0margs\u001b[0m \u001b[1;33m=\u001b[0m \u001b[0mtuple\u001b[0m\u001b[1;33m(\u001b[0m\u001b[0mmap\u001b[0m\u001b[1;33m(\u001b[0m\u001b[0masarray\u001b[0m\u001b[1;33m,\u001b[0m \u001b[0margs\u001b[0m\u001b[1;33m)\u001b[0m\u001b[1;33m)\u001b[0m\u001b[1;33m\u001b[0m\u001b[1;33m\u001b[0m\u001b[0m\n",
      "\u001b[1;31mTypeError\u001b[0m: _parse_args() got multiple values for argument 'loc'"
     ]
    }
   ],
   "source": [
    "st.norm.median(data_sua, loc=0, scale=1)"
   ]
  },
  {
   "cell_type": "markdown",
   "metadata": {},
   "source": [
    "<p>8. Những con bò cho lượng sữa từ 8 (lít/ngày) trở lên là những con bò có năng suất sữa cao. Bạn hãy tính trị kiểm định của giả thuyết: \"Tỷ lệ những con bò năng suất sữa cao là 96%\" là:</p>"
   ]
  },
  {
   "cell_type": "code",
   "execution_count": null,
   "metadata": {},
   "outputs": [],
   "source": []
  },
  {
   "cell_type": "markdown",
   "metadata": {},
   "source": [
    "<p>9. Thiết kế kỹ thuật về đường kính của một loại bánh kem do máy A làm ra là 30cm. Sau một thời gian sản xuất người ta nghi ngờ sự chính xác của máy A nên đo thử 81 bánh kem thì thấy có đường kính trung bình là 30.5cm và độ lệch chuẩn là 1cm. Hãy kiểm định sự nghi ngờ: \"máy A làm việc không còn chính xác nữa\" trên ở mức 5%.</p>"
   ]
  },
  {
   "cell_type": "code",
   "execution_count": null,
   "metadata": {},
   "outputs": [],
   "source": []
  },
  {
   "cell_type": "markdown",
   "metadata": {},
   "source": [
    "<p>10. Một thành phố A, trong 300 người hút thuốc lá có 36 người hút ít nhất hai gói thuốc trong một ngày. Có ý kiến cho rằng tỷ lệ người hút thuốc ít nhất hai gói một ngày ở thành phố A không lớn hơn 8%. Hãy cho nhận xét về ý kiến trên với mức ý nghĩa 3%.</p>"
   ]
  },
  {
   "cell_type": "code",
   "execution_count": null,
   "metadata": {},
   "outputs": [],
   "source": []
  }
 ],
 "metadata": {
  "interpreter": {
   "hash": "63fd5069d213b44bf678585dea6b12cceca9941eaf7f819626cde1f2670de90d"
  },
  "kernelspec": {
   "display_name": "Python 3.9.7 64-bit",
   "language": "python",
   "name": "python3"
  },
  "language_info": {
   "codemirror_mode": {
    "name": "ipython",
    "version": 3
   },
   "file_extension": ".py",
   "mimetype": "text/x-python",
   "name": "python",
   "nbconvert_exporter": "python",
   "pygments_lexer": "ipython3",
   "version": "3.9.7"
  },
  "orig_nbformat": 4
 },
 "nbformat": 4,
 "nbformat_minor": 2
}
